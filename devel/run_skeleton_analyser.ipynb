{
 "cells": [
  {
   "cell_type": "code",
   "execution_count": 2,
   "metadata": {},
   "outputs": [
    {
     "name": "stdout",
     "output_type": "stream",
     "text": [
      "1.082842712474619\n"
     ]
    },
    {
     "name": "stderr",
     "output_type": "stream",
     "text": [
      "C:\\Users\\Jirik\\Miniconda3\\envs\\skelet3d\\lib\\site-packages\\skelet3d\\skeleton_analyser.py:608: RuntimeWarning: invalid value encountered in double_scalars\n",
      "  np.dot(vect, norm) / np.linalg.norm(norm) ** 2) * np.array(norm)\n",
      "C:\\Users\\Jirik\\Miniconda3\\envs\\skelet3d\\lib\\site-packages\\skelet3d\\skeleton_analyser.py:539: RuntimeWarning: invalid value encountered in true_divide\n",
      "  v1u = v1 / np.linalg.norm(v1)\n"
     ]
    },
    {
     "data": {
      "text/plain": [
       "array([[[ 0,  0,  0,  0,  0,  0,  0,  0,  0],\n",
       "        [ 0,  0,  0,  0,  0,  0,  0,  0,  0],\n",
       "        [ 0,  0,  0,  0,  0,  0,  0,  0,  0],\n",
       "        [ 0,  0,  0,  0,  0,  0,  0,  0,  0],\n",
       "        [ 0,  0,  0,  0,  0,  0,  0,  0,  0],\n",
       "        [ 0,  0,  0,  0,  0,  0,  0,  0,  0],\n",
       "        [ 0,  0,  0,  0,  0,  0,  0,  0,  0]],\n",
       "\n",
       "       [[ 0,  0,  0,  0,  0,  0,  0,  0,  0],\n",
       "        [ 0,  0,  0,  0,  0,  0,  0,  0,  0],\n",
       "        [ 0, -1,  0,  0,  0, -2,  0,  0,  0],\n",
       "        [ 0,  1,  0,  0,  0,  2,  0,  0,  0],\n",
       "        [ 0,  1,  0,  0,  0, -3,  0,  0,  0],\n",
       "        [ 0,  0,  1,  1,  1,  0,  3, -4,  0],\n",
       "        [ 0,  0,  0,  0,  0,  0,  0,  0,  0]],\n",
       "\n",
       "       [[ 0,  0,  0,  0,  0,  0,  0,  0,  0],\n",
       "        [ 0,  0,  0,  0,  0,  0,  0,  0,  0],\n",
       "        [ 0,  0,  0,  0,  0,  0,  0,  0,  0],\n",
       "        [ 0,  0,  0,  0,  0,  0,  0,  0,  0],\n",
       "        [ 0,  0,  0,  0,  0,  0,  0,  0,  0],\n",
       "        [ 0,  0,  0,  0,  0,  0,  0,  0,  0],\n",
       "        [ 0,  0,  0,  0,  0,  0,  0,  0,  0]]])"
      ]
     },
     "execution_count": 2,
     "metadata": {},
     "output_type": "execute_result"
    }
   ],
   "source": [
    "import skelet3d\n",
    "import numpy as np\n",
    "# Create donut shape\n",
    "volume_data = np.zeros([3, 7, 9], dtype=np.int)\n",
    "volume_data [:, :, 1:3] = 1\n",
    "volume_data [:, 5, 2:9] = 1\n",
    "volume_data [:, 0:7, 5] = 1\n",
    "skelet = skelet3d.skelet3d(volume_data)\n",
    "\n",
    "skan = skelet3d.SkeletonAnalyser(skelet, volume_data=volume_data, voxelsize_mm=[1,1,1])\n",
    "stats = skan.skeleton_analysis()\n",
    "edge_number = 1\n",
    "print(stats[edge_number]['radius_mm'])\n",
    "\n",
    "# Get np.ndarray with labeled skeletonized image\n",
    "skan.sklabel"
   ]
  },
  {
   "cell_type": "code",
   "execution_count": 3,
   "metadata": {},
   "outputs": [
    {
     "data": {
      "text/plain": [
       "{1: {'id': 1,\n",
       "  'nodeIdA': -3,\n",
       "  'nodeIdB': -1,\n",
       "  'connectedEdgesA': [2, 3],\n",
       "  'connectedEdgesB': [],\n",
       "  'nodeA_ZYX': [1.0, 4.0, 5.0],\n",
       "  'nodeB_ZYX': [1.0, 2.0, 1.0],\n",
       "  'nodeA_ZYX_mm': [1.0, 4.0, 5.0],\n",
       "  'nodeB_ZYX_mm': [1.0, 2.0, 1.0],\n",
       "  'orderedPoints_mm_X': [1.0, 1.0, 1.0, 1.0, 1.0, 1.0, 1.0],\n",
       "  'orderedPoints_mm_Y': [4.0, 5.0, 5.0, 5.0, 4.0, 3.0, 2.0],\n",
       "  'orderedPoints_mm_Z': [5.0, 4.0, 3.0, 2.0, 1.0, 1.0, 1.0],\n",
       "  'orderedPoints_mm': [[1.0, 1.0, 1.0, 1.0, 1.0, 1.0, 1.0],\n",
       "   [4.0, 5.0, 5.0, 5.0, 4.0, 3.0, 2.0],\n",
       "   [5.0, 4.0, 3.0, 2.0, 1.0, 1.0, 1.0]],\n",
       "  'lengthEstimationPixel': 6.82842712474619,\n",
       "  'curve_params': {'start': [1.0, 4.0, 5.0],\n",
       "   'vector': [0.0, -2.0, -4.0],\n",
       "   'fitParamsX': [1.942189750390592e-15,\n",
       "    -1.0037522676626678e-15,\n",
       "    1.0000000000000004],\n",
       "   'fitParamsY': [-7.285714285714276, 4.92857142857142, 4.1666666666666705],\n",
       "   'fitParamsZ': [4.28571428571428, -8.571428571428571, 5.1666666666666705],\n",
       "   'fitCurveStrX': '           2\\n1.942e-15 x - 1.004e-15 x + 1',\n",
       "   'fitCurveStrY': '        2\\n-7.286 x + 4.929 x + 4.167',\n",
       "   'fitCurveStrZ': '       2\\n4.286 x - 8.571 x + 5.167'},\n",
       "  'lengthEstimationPoly': 6.72826015607308,\n",
       "  'lengthEstimationSpline': 6.8573174262952215,\n",
       "  'lengthEstimation': 6.8573174262952215,\n",
       "  'nodesDistance': 4.47213595499958,\n",
       "  'tortuosity': 1.5333427908490018,\n",
       "  'vectorA': [0.0, 0.5, 1.0],\n",
       "  'vectorB': [0.0, -0.5, -1.0],\n",
       "  'radius_mm': 1.082842712474619,\n",
       "  'phiAa': 116.56505117707799,\n",
       "  'phiAb': 8.537736462515939e-07,\n",
       "  'phiAc': 121.717474411461,\n",
       "  'vectorA0': [0.0, 0.5, 0.0],\n",
       "  'vectorA1': [0.0, -0.25, -0.5]},\n",
       " 2: {'id': 2,\n",
       "  'nodeIdA': -3,\n",
       "  'nodeIdB': -2,\n",
       "  'connectedEdgesA': [1, 3],\n",
       "  'connectedEdgesB': [],\n",
       "  'nodeA_ZYX': [1.0, 4.0, 5.0],\n",
       "  'nodeB_ZYX': [1.0, 2.0, 5.0],\n",
       "  'nodeA_ZYX_mm': [1.0, 4.0, 5.0],\n",
       "  'nodeB_ZYX_mm': [1.0, 2.0, 5.0],\n",
       "  'orderedPoints_mm_X': [1.0, 1.0, 1.0],\n",
       "  'orderedPoints_mm_Y': [4.0, 3.0, 2.0],\n",
       "  'orderedPoints_mm_Z': [5.0, 5.0, 5.0],\n",
       "  'orderedPoints_mm': [[1.0, 1.0, 1.0], [4.0, 3.0, 2.0], [5.0, 5.0, 5.0]],\n",
       "  'lengthEstimationPixel': 2.0,\n",
       "  'curve_params': {'start': [1.0, 4.0, 5.0],\n",
       "   'vector': [0.0, -2.0, 0.0],\n",
       "   'fitParamsX': [8.965859755596919e-16,\n",
       "    -9.038488777343346e-16,\n",
       "    0.9999999999999998],\n",
       "   'fitParamsY': [8.965859755596919e-16,\n",
       "    -2.0000000000000004,\n",
       "    3.999999999999999],\n",
       "   'fitParamsZ': [7.172687804477535e-16, -7.701611931955105e-16, 5.0],\n",
       "   'fitCurveStrX': '           2\\n8.966e-16 x - 9.038e-16 x + 1',\n",
       "   'fitCurveStrY': '           2\\n8.966e-16 x - 2 x + 4',\n",
       "   'fitCurveStrZ': '           2\\n7.173e-16 x - 7.702e-16 x + 5'},\n",
       "  'lengthEstimationPoly': 1.9999999999999996,\n",
       "  'lengthEstimationSpline': None,\n",
       "  'lengthEstimation': 2.0,\n",
       "  'nodesDistance': 2.0,\n",
       "  'tortuosity': 1.0,\n",
       "  'vectorA': [0.0, 0.5, 0.0],\n",
       "  'vectorB': [0.0, -0.5, 0.0],\n",
       "  'radius_mm': 1.0,\n",
       "  'phiAa': 179.99999914622634,\n",
       "  'phiAb': nan,\n",
       "  'phiAc': nan,\n",
       "  'vectorA0': [0.0, 0.5, 1.0],\n",
       "  'vectorA1': [0.0, -0.25, -0.5]},\n",
       " 3: {'id': 3,\n",
       "  'nodeIdA': -4,\n",
       "  'nodeIdB': -3,\n",
       "  'connectedEdgesA': [],\n",
       "  'connectedEdgesB': [1, 2],\n",
       "  'nodeA_ZYX': [1.0, 5.0, 7.0],\n",
       "  'nodeB_ZYX': [1.0, 4.0, 5.0],\n",
       "  'nodeA_ZYX_mm': [1.0, 5.0, 7.0],\n",
       "  'nodeB_ZYX_mm': [1.0, 4.0, 5.0],\n",
       "  'orderedPoints_mm_X': [1.0, 1.0, 1.0],\n",
       "  'orderedPoints_mm_Y': [5.0, 5.0, 4.0],\n",
       "  'orderedPoints_mm_Z': [7.0, 6.0, 5.0],\n",
       "  'orderedPoints_mm': [[1.0, 1.0, 1.0], [5.0, 5.0, 4.0], [7.0, 6.0, 5.0]],\n",
       "  'lengthEstimationPixel': 2.414213562373095,\n",
       "  'curve_params': {'start': [1.0, 5.0, 7.0],\n",
       "   'vector': [0.0, -1.0, -2.0],\n",
       "   'fitParamsX': [8.965859755596919e-16,\n",
       "    -9.038488777343346e-16,\n",
       "    0.9999999999999998],\n",
       "   'fitParamsY': [-1.9999999999999996, 0.9999999999999996, 5.0],\n",
       "   'fitParamsZ': [5.0208814631342755e-15,\n",
       "    -2.000000000000002,\n",
       "    6.999999999999999],\n",
       "   'fitCurveStrX': '           2\\n8.966e-16 x - 9.038e-16 x + 1',\n",
       "   'fitCurveStrY': '    2\\n-2 x + 1 x + 5',\n",
       "   'fitCurveStrZ': '           2\\n5.021e-15 x - 2 x + 7'},\n",
       "  'lengthEstimationPoly': 2.466942252649898,\n",
       "  'lengthEstimationSpline': None,\n",
       "  'lengthEstimation': 2.414213562373095,\n",
       "  'nodesDistance': 2.23606797749979,\n",
       "  'tortuosity': 1.0796691275336336,\n",
       "  'vectorA': [0.0, 0.25, 0.5],\n",
       "  'vectorB': [0.0, -0.25, -0.5],\n",
       "  'radius_mm': 1.0,\n",
       "  'phiBa': 63.43494882292201,\n",
       "  'phiBb': 8.537736462515939e-07,\n",
       "  'phiBc': 148.282525588539,\n",
       "  'vectorB0': [0.0, 0.5, 1.0],\n",
       "  'vectorB1': [0.0, 0.5, 0.0]}}"
      ]
     },
     "execution_count": 3,
     "metadata": {},
     "output_type": "execute_result"
    }
   ],
   "source": [
    "stats"
   ]
  },
  {
   "cell_type": "markdown",
   "metadata": {},
   "source": [
    "# Export to TIFF"
   ]
  },
  {
   "cell_type": "code",
   "execution_count": 17,
   "metadata": {},
   "outputs": [
    {
     "data": {
      "text/plain": [
       "-4"
      ]
     },
     "execution_count": 17,
     "metadata": {},
     "output_type": "execute_result"
    }
   ],
   "source": [
    "import io3d\n",
    "\n",
    "img = ((skan.sklabel + 5) * 10).astype(np.uint8)\n",
    "img[img==50] = 0\n",
    "io3d.write(img, \"fn2.tiff\")\n",
    "np.min(skan.sklabel)"
   ]
  },
  {
   "cell_type": "code",
   "execution_count": 18,
   "metadata": {},
   "outputs": [
    {
     "data": {
      "text/plain": [
       "array([[[ 0,  0,  0,  0,  0,  0,  0,  0,  0],\n",
       "        [ 0,  0,  0,  0,  0,  0,  0,  0,  0],\n",
       "        [ 0,  0,  0,  0,  0,  0,  0,  0,  0],\n",
       "        [ 0,  0,  0,  0,  0,  0,  0,  0,  0],\n",
       "        [ 0,  0,  0,  0,  0,  0,  0,  0,  0],\n",
       "        [ 0,  0,  0,  0,  0,  0,  0,  0,  0],\n",
       "        [ 0,  0,  0,  0,  0,  0,  0,  0,  0]],\n",
       "\n",
       "       [[ 0,  0,  0,  0,  0,  0,  0,  0,  0],\n",
       "        [ 0,  0,  0,  0,  0,  0,  0,  0,  0],\n",
       "        [ 0, 40,  0,  0,  0, 30,  0,  0,  0],\n",
       "        [ 0, 60,  0,  0,  0, 70,  0,  0,  0],\n",
       "        [ 0, 60,  0,  0,  0, 20,  0,  0,  0],\n",
       "        [ 0,  0, 60, 60, 60,  0, 80, 10,  0],\n",
       "        [ 0,  0,  0,  0,  0,  0,  0,  0,  0]],\n",
       "\n",
       "       [[ 0,  0,  0,  0,  0,  0,  0,  0,  0],\n",
       "        [ 0,  0,  0,  0,  0,  0,  0,  0,  0],\n",
       "        [ 0,  0,  0,  0,  0,  0,  0,  0,  0],\n",
       "        [ 0,  0,  0,  0,  0,  0,  0,  0,  0],\n",
       "        [ 0,  0,  0,  0,  0,  0,  0,  0,  0],\n",
       "        [ 0,  0,  0,  0,  0,  0,  0,  0,  0],\n",
       "        [ 0,  0,  0,  0,  0,  0,  0,  0,  0]]], dtype=uint8)"
      ]
     },
     "execution_count": 18,
     "metadata": {},
     "output_type": "execute_result"
    }
   ],
   "source": [
    "img"
   ]
  }
 ],
 "metadata": {
  "kernelspec": {
   "display_name": "Python 3",
   "language": "python",
   "name": "python3"
  },
  "language_info": {
   "codemirror_mode": {
    "name": "ipython",
    "version": 3
   },
   "file_extension": ".py",
   "mimetype": "text/x-python",
   "name": "python",
   "nbconvert_exporter": "python",
   "pygments_lexer": "ipython3",
   "version": "3.7.6"
  },
  "toc": {
   "base_numbering": 1,
   "nav_menu": {},
   "number_sections": true,
   "sideBar": true,
   "skip_h1_title": false,
   "title_cell": "Table of Contents",
   "title_sidebar": "Contents",
   "toc_cell": false,
   "toc_position": {},
   "toc_section_display": true,
   "toc_window_display": true
  }
 },
 "nbformat": 4,
 "nbformat_minor": 2
}
